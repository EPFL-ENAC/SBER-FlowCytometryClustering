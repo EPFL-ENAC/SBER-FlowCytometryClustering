{
 "cells": [
  {
   "cell_type": "code",
   "execution_count": 4,
   "metadata": {},
   "outputs": [],
   "source": [
    "import pandas as pd\n",
    "import matplotlib.pyplot as plt\n",
    "import seaborn as sns; sns.set_theme(color_codes=True)\n",
    "\n",
    "\n",
    "from data import *\n",
    "from helpers import *\n",
    "from k_means import *\n",
    "from density import *"
   ]
  },
  {
   "cell_type": "code",
   "execution_count": 5,
   "metadata": {},
   "outputs": [],
   "source": [
    "# Automated way to create labeled dataset\n",
    "#directory='/../data_gated/'\n",
    "#columns=['FSC-H', 'SSC-H', 'B530-H', 'B572-H', 'B675-H']\n",
    "#create_labeled_dataset(directory,columns,label_gated=3,label_not_gated=1)"
   ]
  },
  {
   "cell_type": "code",
   "execution_count": 6,
   "metadata": {},
   "outputs": [],
   "source": [
    "file = '../labeled_dataset/GL55_DN_3A.csv'\n",
    "columns=['FSC-H', 'SSC-H', 'B530-H', 'B675-H','Width']\n",
    "X,y = preprocess(file,columns)"
   ]
  },
  {
   "cell_type": "code",
   "execution_count": null,
   "metadata": {},
   "outputs": [],
   "source": [
    "labels_density = density_clusterize(X, 0.7, 188)\n",
    "unique, counts = np.unique(labels_density, return_counts=True)\n",
    "print(dict(zip(unique, counts)))\n",
    "plot_results(data, channels, assignments=labels_density)\n"
   ]
  },
  {
   "cell_type": "code",
   "execution_count": null,
   "metadata": {},
   "outputs": [],
   "source": [
    "print(output_labels.shape)\n",
    "print(X.shape)\n",
    "print(y.shape)"
   ]
  },
  {
   "cell_type": "code",
   "execution_count": null,
   "metadata": {},
   "outputs": [],
   "source": [
    "sns.scatterplot(data=X, x=\"B530-H\", y=\"B572-H\", hue=y)"
   ]
  },
  {
   "cell_type": "code",
   "execution_count": null,
   "metadata": {},
   "outputs": [],
   "source": [
    "X = X.drop([0])\n",
    "sns.scatterplot(data=X, x=\"B530-H\", y=\"B572-H\", hue=output_labels)"
   ]
  },
  {
   "cell_type": "code",
   "execution_count": null,
   "metadata": {},
   "outputs": [],
   "source": [
    "from sklearn.metrics.cluster import adjusted_rand_score\n",
    "\n",
    "adjusted_rand_score(y.drop([0]), output_labels)"
   ]
  },
  {
   "cell_type": "code",
   "execution_count": null,
   "metadata": {},
   "outputs": [],
   "source": [
    "#Files\n",
    "file = '../labeled_dataset/GL53_UP_3A.csv'\n",
    "columns=['FSC-H', 'SSC-H', 'B530-H', 'B572-H', 'B675-H']\n",
    "df_labeled = pd.read_csv(file)\n",
    "\n",
    "#creation of X and y\n",
    "X,y = split_input_output(df_labeled,target_feature='label')\n",
    "\n",
    "#Detect and remove outliers\n",
    "X,y = remove_outliers(X,y,contamination=0.03)\n",
    "\n",
    "#Standardize our data\n",
    "scaler = preprocessing.MinMaxScaler(feature_range=(-1,1))\n",
    "X[X.columns] = scaler.fit_transform(X[X.columns])\n",
    "\n",
    "#Save file in csv format\n",
    "save_to_csv(X,y)"
   ]
  },
  {
   "cell_type": "code",
   "execution_count": null,
   "metadata": {},
   "outputs": [],
   "source": [
    "os.system(\"python ../FlowGrid/sample_code.py --f fc_data.csv --n 4 --eps 1.1\")\n",
    "output_labels = np.genfromtxt('fc_data_FlowGrid_label.csv', delimiter=',')\n"
   ]
  },
  {
   "cell_type": "code",
   "execution_count": null,
   "metadata": {},
   "outputs": [],
   "source": [
    "#plot_results_b530_b572(X, columns, assignments=output_labels)\n",
    "sns.scatterplot(data=X, x=\"B530-H\", y=\"B572-H\", hue=y)"
   ]
  },
  {
   "cell_type": "code",
   "execution_count": null,
   "metadata": {},
   "outputs": [],
   "source": [
    "X = X.drop([0])\n",
    "sns.scatterplot(data=X, x=\"B530-H\", y=\"B572-H\", hue=output_labels)"
   ]
  },
  {
   "cell_type": "code",
   "execution_count": null,
   "metadata": {},
   "outputs": [],
   "source": [
    "#Files\n",
    "file = '../labeled_dataset/GL55_DN_3A.csv'\n",
    "columns=['FSC-H', 'SSC-H', 'B530-H', 'B572-H', 'B675-H']\n",
    "df_labeled = pd.read_csv(file)\n",
    "\n",
    "#creation of X and y\n",
    "X,y = split_input_output(df_labeled,target_feature='label')\n",
    "\n",
    "#Detect and remove outliers\n",
    "X,y = remove_outliers(X,y,contamination=0.03)\n",
    "\n",
    "#Standardize our data\n",
    "scaler = preprocessing.MinMaxScaler(feature_range=(-1,1))\n",
    "X[X.columns] = scaler.fit_transform(X[X.columns])\n",
    "\n",
    "#Save file in csv format\n",
    "save_to_csv(X,y)"
   ]
  },
  {
   "cell_type": "code",
   "execution_count": null,
   "metadata": {},
   "outputs": [],
   "source": [
    "os.system(\"python ../FlowGrid/sample_code.py --f fc_data.csv --n 4 --eps 1.1\")\n",
    "output_labels = np.genfromtxt('fc_data_FlowGrid_label.csv', delimiter=',')"
   ]
  },
  {
   "cell_type": "code",
   "execution_count": null,
   "metadata": {},
   "outputs": [],
   "source": [
    "#plot_results_b530_b572(X, columns, assignments=output_labels)"
   ]
  },
  {
   "cell_type": "code",
   "execution_count": null,
   "metadata": {},
   "outputs": [],
   "source": [
    "sns.scatterplot(data=X, x=\"B530-H\", y=\"B572-H\", hue=y)"
   ]
  },
  {
   "cell_type": "code",
   "execution_count": null,
   "metadata": {},
   "outputs": [],
   "source": [
    "X = X.drop([0])\n",
    "sns.scatterplot(data=X, x=\"B530-H\", y=\"B572-H\", hue=output_labels)"
   ]
  },
  {
   "cell_type": "markdown",
   "metadata": {},
   "source": [
    "## Automating the clustering and save outputs"
   ]
  },
  {
   "cell_type": "code",
   "execution_count": null,
   "metadata": {},
   "outputs": [],
   "source": [
    "sns_plot.savefig(\"output.png\")"
   ]
  },
  {
   "cell_type": "markdown",
   "metadata": {},
   "source": [
    "# Older work without labeled dataset"
   ]
  },
  {
   "cell_type": "markdown",
   "metadata": {},
   "source": [
    "## Clustering without labeled"
   ]
  },
  {
   "cell_type": "code",
   "execution_count": null,
   "metadata": {},
   "outputs": [],
   "source": [
    "fc_data, channels = load_important_data('GL8_UP_1B.fcs','/../data/')\n",
    "\n",
    "fc_data, tmp = standardize_log(fc_data)\n",
    "fc_data, indices = remove_outliers_with_indices(fc_data, max_deviation = 4)\n",
    "\n",
    "fc_subdata_array = np.array(fc_data)\n",
    "np.savetxt(\"fc_data.csv\", fc_subdata_array, delimiter=\",\")\n",
    "\n",
    "os.system(\"python ../FlowGrid/sample_code.py --f fc_data.csv --n 2 --eps 1.1\")\n",
    "\n",
    "output_labels = np.genfromtxt('fc_data_FlowGrid_label.csv', delimiter=',')\n",
    "\n",
    "fc_data = np.delete(fc_data, obj=0, axis=0)\n",
    "\n",
    "plot_results_b530_b572(fc_data, channels, assignments=output_labels)"
   ]
  },
  {
   "cell_type": "markdown",
   "metadata": {},
   "source": [
    "## Density gating"
   ]
  },
  {
   "cell_type": "code",
   "execution_count": null,
   "metadata": {},
   "outputs": [],
   "source": [
    "#fc_data, channels = load_important_data('GL8_UP_1B.fcs')\n",
    "s = FlowCal.io.FCSData('../data/GL8_UP_1B.fcs')\n",
    "s = FlowCal.transform.to_rfi(s)\n",
    "s_g1 = FlowCal.gate.high_low(s, channels=['B530-H','B572-H'])\n",
    "FlowCal.plot.density2d(s_g1, channels=['B530-H','B572-H'], mode='scatter')\n",
    "plt.show()"
   ]
  },
  {
   "cell_type": "code",
   "execution_count": null,
   "metadata": {},
   "outputs": [],
   "source": [
    "s_g2 = FlowCal.gate.high_low(s_g1, channels='B530-H', low=25)\n",
    "FlowCal.plot.density2d(s_g2, channels=['B530-H','B572-H'], mode='scatter')\n",
    "plt.show()"
   ]
  },
  {
   "cell_type": "code",
   "execution_count": null,
   "metadata": {},
   "outputs": [],
   "source": [
    "s_g4 = FlowCal.gate.density2d(s_g1,channels=['B530-H','B572-H'], gate_fraction=0.75)\n",
    "FlowCal.plot.density2d(s_g4,channels=['B530-H','B572-H'],mode='scatter')\n",
    "plt.show()"
   ]
  },
  {
   "cell_type": "markdown",
   "metadata": {},
   "source": [
    "## Other clustering algo without labeled dataset"
   ]
  },
  {
   "cell_type": "code",
   "execution_count": null,
   "metadata": {},
   "outputs": [],
   "source": [
    "fc_data, channels = load_important_data('GL9_DN_1A.fcs','/../data/')\n",
    "\n",
    "fc_data, tmp = standardize_log(fc_data)\n",
    "fc_data, indices = remove_outliers_with_indices(fc_data, max_deviation = 4)\n",
    "\n",
    "fc_subdata_array = np.array(fc_data)\n",
    "np.savetxt(\"fc_data.csv\", fc_subdata_array, delimiter=\",\")\n",
    "\n",
    "os.system(\"python ../FlowGrid/sample_code.py --f fc_data.csv --n 2 --eps 1.1\")\n",
    "\n",
    "output_labels = np.genfromtxt('fc_data_FlowGrid_label.csv', delimiter=',')\n",
    "\n",
    "fc_data = np.delete(fc_data, obj=0, axis=0)\n",
    "\n",
    "plot_results_b530_b572(fc_data, channels, assignments=output_labels)"
   ]
  },
  {
   "cell_type": "code",
   "execution_count": null,
   "metadata": {},
   "outputs": [],
   "source": [
    "s = FlowCal.io.FCSData('../data/GL9_DN_1A.fcs')\n",
    "s = FlowCal.transform.to_rfi(s)\n",
    "s_g1 = FlowCal.gate.high_low(s, channels=['B530-H','B572-H'])\n",
    "\n",
    "s_g4 = FlowCal.gate.density2d(s_g1,channels=['B530-H','B572-H'], gate_fraction=0.75)\n",
    "FlowCal.plot.density2d(s_g4,channels=['B530-H','B572-H'],mode='scatter')\n",
    "plt.show()"
   ]
  },
  {
   "cell_type": "code",
   "execution_count": null,
   "metadata": {},
   "outputs": [],
   "source": [
    "fc_data, channels = load_important_data('GL11_UP_2A.fcs','/../data/')\n",
    "\n",
    "fc_data, tmp = standardize_log(fc_data)\n",
    "fc_data, indices = remove_outliers_with_indices(fc_data, max_deviation = 4)\n",
    "\n",
    "fc_subdata_array = np.array(fc_data)\n",
    "np.savetxt(\"fc_data.csv\", fc_subdata_array, delimiter=\",\")\n",
    "\n",
    "os.system(\"python ../FlowGrid/sample_code.py --f fc_data.csv --n 2 --eps 1.1\")\n",
    "\n",
    "output_labels = np.genfromtxt('fc_data_FlowGrid_label.csv', delimiter=',')\n",
    "\n",
    "fc_data = np.delete(fc_data, obj=0, axis=0)\n",
    "\n",
    "plot_results_b530_b572(fc_data, channels, assignments=output_labels)"
   ]
  }
 ],
 "metadata": {
  "kernelspec": {
   "display_name": "Python 3",
   "language": "python",
   "name": "python3"
  },
  "language_info": {
   "codemirror_mode": {
    "name": "ipython",
    "version": 3
   },
   "file_extension": ".py",
   "mimetype": "text/x-python",
   "name": "python",
   "nbconvert_exporter": "python",
   "pygments_lexer": "ipython3",
   "version": "3.9.2"
  }
 },
 "nbformat": 4,
 "nbformat_minor": 4
}
