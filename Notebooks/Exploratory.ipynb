{
 "cells": [
  {
   "cell_type": "code",
   "execution_count": 1,
   "metadata": {},
   "outputs": [],
   "source": [
    "import pandas as pd\n",
    "import matplotlib.pyplot as plt\n",
    "import seaborn as sns; sns.set_theme(color_codes=True)\n",
    "from sklearn.metrics import f1_score\n",
    "from sklearn.ensemble import ExtraTreesClassifier\n",
    "from sklearn.ensemble import RandomForestClassifier\n",
    "import time\n",
    "import numpy as np\n",
    "\n",
    "from data import *\n",
    "from helpers import *\n"
   ]
  },
  {
   "cell_type": "code",
   "execution_count": 2,
   "metadata": {},
   "outputs": [],
   "source": [
    "# Automated way to create labeled dataset\n",
    "#directory='/../data_gated/'\n",
    "#columns=['FSC-H', 'SSC-H', 'B530-H', 'B572-H', 'B675-H']\n",
    "#create_labeled_dataset(directory,columns)"
   ]
  },
  {
   "cell_type": "code",
   "execution_count": 3,
   "metadata": {},
   "outputs": [],
   "source": [
    "directory='/../data_gated/'\n",
    "fileName='all_event/GL53_UP_2A.fcs'\n",
    "data = load_file(fileName, directory)"
   ]
  },
  {
   "cell_type": "code",
   "execution_count": 4,
   "metadata": {},
   "outputs": [],
   "source": [
    "data_df = pd.DataFrame(data=data, columns=data.channels)"
   ]
  },
  {
   "cell_type": "code",
   "execution_count": 5,
   "metadata": {},
   "outputs": [
    {
     "data": {
      "text/plain": [
       "(1898, 12)"
      ]
     },
     "execution_count": 5,
     "metadata": {},
     "output_type": "execute_result"
    }
   ],
   "source": [
    "data_df.shape"
   ]
  },
  {
   "cell_type": "code",
   "execution_count": 6,
   "metadata": {},
   "outputs": [
    {
     "data": {
      "text/html": [
       "<div>\n",
       "<style scoped>\n",
       "    .dataframe tbody tr th:only-of-type {\n",
       "        vertical-align: middle;\n",
       "    }\n",
       "\n",
       "    .dataframe tbody tr th {\n",
       "        vertical-align: top;\n",
       "    }\n",
       "\n",
       "    .dataframe thead th {\n",
       "        text-align: right;\n",
       "    }\n",
       "</style>\n",
       "<table border=\"1\" class=\"dataframe\">\n",
       "  <thead>\n",
       "    <tr style=\"text-align: right;\">\n",
       "      <th></th>\n",
       "      <th>FSC-H</th>\n",
       "      <th>SSC-H</th>\n",
       "      <th>B530-H</th>\n",
       "      <th>B572-H</th>\n",
       "      <th>B675-H</th>\n",
       "      <th>FSC-A</th>\n",
       "      <th>SSC-A</th>\n",
       "      <th>B530-A</th>\n",
       "      <th>B572-A</th>\n",
       "      <th>B675-A</th>\n",
       "      <th>Width</th>\n",
       "      <th>Time</th>\n",
       "    </tr>\n",
       "  </thead>\n",
       "  <tbody>\n",
       "    <tr>\n",
       "      <th>count</th>\n",
       "      <td>1898.000000</td>\n",
       "      <td>1.898000e+03</td>\n",
       "      <td>1898.000000</td>\n",
       "      <td>1898.000000</td>\n",
       "      <td>1898.000000</td>\n",
       "      <td>1898.000000</td>\n",
       "      <td>1898.000000</td>\n",
       "      <td>1.898000e+03</td>\n",
       "      <td>1898.000000</td>\n",
       "      <td>1898.000000</td>\n",
       "      <td>1898.000000</td>\n",
       "      <td>1898.0</td>\n",
       "    </tr>\n",
       "    <tr>\n",
       "      <th>mean</th>\n",
       "      <td>11261.881836</td>\n",
       "      <td>3.955664e+04</td>\n",
       "      <td>14137.167969</td>\n",
       "      <td>4196.788086</td>\n",
       "      <td>4326.112305</td>\n",
       "      <td>2924.793945</td>\n",
       "      <td>10294.613281</td>\n",
       "      <td>1.677182e+04</td>\n",
       "      <td>4987.258789</td>\n",
       "      <td>5029.241211</td>\n",
       "      <td>23.807034</td>\n",
       "      <td>60493772.0</td>\n",
       "    </tr>\n",
       "    <tr>\n",
       "      <th>std</th>\n",
       "      <td>31326.855469</td>\n",
       "      <td>7.075362e+04</td>\n",
       "      <td>30667.376953</td>\n",
       "      <td>7709.301758</td>\n",
       "      <td>7171.506348</td>\n",
       "      <td>8722.607422</td>\n",
       "      <td>19255.326172</td>\n",
       "      <td>3.998809e+04</td>\n",
       "      <td>10251.704102</td>\n",
       "      <td>9624.669922</td>\n",
       "      <td>6.706486</td>\n",
       "      <td>33297648.0</td>\n",
       "    </tr>\n",
       "    <tr>\n",
       "      <th>min</th>\n",
       "      <td>503.000000</td>\n",
       "      <td>0.000000e+00</td>\n",
       "      <td>3001.000000</td>\n",
       "      <td>360.000000</td>\n",
       "      <td>57.000000</td>\n",
       "      <td>27.000000</td>\n",
       "      <td>-671.000000</td>\n",
       "      <td>1.814000e+03</td>\n",
       "      <td>372.000000</td>\n",
       "      <td>109.000000</td>\n",
       "      <td>11.750000</td>\n",
       "      <td>175251.0</td>\n",
       "    </tr>\n",
       "    <tr>\n",
       "      <th>25%</th>\n",
       "      <td>1723.250000</td>\n",
       "      <td>9.890500e+03</td>\n",
       "      <td>4327.250000</td>\n",
       "      <td>1796.250000</td>\n",
       "      <td>1915.500000</td>\n",
       "      <td>385.500000</td>\n",
       "      <td>2320.500000</td>\n",
       "      <td>4.383000e+03</td>\n",
       "      <td>1914.000000</td>\n",
       "      <td>2059.500000</td>\n",
       "      <td>18.625000</td>\n",
       "      <td>31943201.0</td>\n",
       "    </tr>\n",
       "    <tr>\n",
       "      <th>50%</th>\n",
       "      <td>3937.500000</td>\n",
       "      <td>2.025350e+04</td>\n",
       "      <td>6724.500000</td>\n",
       "      <td>2857.000000</td>\n",
       "      <td>3130.000000</td>\n",
       "      <td>957.000000</td>\n",
       "      <td>5152.000000</td>\n",
       "      <td>7.371000e+03</td>\n",
       "      <td>3200.000000</td>\n",
       "      <td>3470.000000</td>\n",
       "      <td>22.750000</td>\n",
       "      <td>60990022.0</td>\n",
       "    </tr>\n",
       "    <tr>\n",
       "      <th>75%</th>\n",
       "      <td>10126.500000</td>\n",
       "      <td>4.281850e+04</td>\n",
       "      <td>13113.500000</td>\n",
       "      <td>4480.750000</td>\n",
       "      <td>5134.750000</td>\n",
       "      <td>2563.000000</td>\n",
       "      <td>11005.500000</td>\n",
       "      <td>1.524675e+04</td>\n",
       "      <td>5245.500000</td>\n",
       "      <td>5724.750000</td>\n",
       "      <td>27.750000</td>\n",
       "      <td>88792496.0</td>\n",
       "    </tr>\n",
       "    <tr>\n",
       "      <th>max</th>\n",
       "      <td>529406.000000</td>\n",
       "      <td>1.186901e+06</td>\n",
       "      <td>873270.000000</td>\n",
       "      <td>252727.000000</td>\n",
       "      <td>213873.000000</td>\n",
       "      <td>174884.000000</td>\n",
       "      <td>306065.000000</td>\n",
       "      <td>1.175428e+06</td>\n",
       "      <td>344178.000000</td>\n",
       "      <td>297353.000000</td>\n",
       "      <td>74.375000</td>\n",
       "      <td>118892952.0</td>\n",
       "    </tr>\n",
       "  </tbody>\n",
       "</table>\n",
       "</div>"
      ],
      "text/plain": [
       "               FSC-H         SSC-H         B530-H         B572-H  \\\n",
       "count    1898.000000  1.898000e+03    1898.000000    1898.000000   \n",
       "mean    11261.881836  3.955664e+04   14137.167969    4196.788086   \n",
       "std     31326.855469  7.075362e+04   30667.376953    7709.301758   \n",
       "min       503.000000  0.000000e+00    3001.000000     360.000000   \n",
       "25%      1723.250000  9.890500e+03    4327.250000    1796.250000   \n",
       "50%      3937.500000  2.025350e+04    6724.500000    2857.000000   \n",
       "75%     10126.500000  4.281850e+04   13113.500000    4480.750000   \n",
       "max    529406.000000  1.186901e+06  873270.000000  252727.000000   \n",
       "\n",
       "              B675-H          FSC-A          SSC-A        B530-A  \\\n",
       "count    1898.000000    1898.000000    1898.000000  1.898000e+03   \n",
       "mean     4326.112305    2924.793945   10294.613281  1.677182e+04   \n",
       "std      7171.506348    8722.607422   19255.326172  3.998809e+04   \n",
       "min        57.000000      27.000000    -671.000000  1.814000e+03   \n",
       "25%      1915.500000     385.500000    2320.500000  4.383000e+03   \n",
       "50%      3130.000000     957.000000    5152.000000  7.371000e+03   \n",
       "75%      5134.750000    2563.000000   11005.500000  1.524675e+04   \n",
       "max    213873.000000  174884.000000  306065.000000  1.175428e+06   \n",
       "\n",
       "              B572-A         B675-A        Width         Time  \n",
       "count    1898.000000    1898.000000  1898.000000       1898.0  \n",
       "mean     4987.258789    5029.241211    23.807034   60493772.0  \n",
       "std     10251.704102    9624.669922     6.706486   33297648.0  \n",
       "min       372.000000     109.000000    11.750000     175251.0  \n",
       "25%      1914.000000    2059.500000    18.625000   31943201.0  \n",
       "50%      3200.000000    3470.000000    22.750000   60990022.0  \n",
       "75%      5245.500000    5724.750000    27.750000   88792496.0  \n",
       "max    344178.000000  297353.000000    74.375000  118892952.0  "
      ]
     },
     "execution_count": 6,
     "metadata": {},
     "output_type": "execute_result"
    }
   ],
   "source": [
    "data_df.describe()"
   ]
  },
  {
   "cell_type": "code",
   "execution_count": 7,
   "metadata": {},
   "outputs": [
    {
     "name": "stdout",
     "output_type": "stream",
     "text": [
      "<class 'pandas.core.frame.DataFrame'>\n",
      "RangeIndex: 1898 entries, 0 to 1897\n",
      "Data columns (total 12 columns):\n",
      " #   Column  Non-Null Count  Dtype  \n",
      "---  ------  --------------  -----  \n",
      " 0   FSC-H   1898 non-null   float32\n",
      " 1   SSC-H   1898 non-null   float32\n",
      " 2   B530-H  1898 non-null   float32\n",
      " 3   B572-H  1898 non-null   float32\n",
      " 4   B675-H  1898 non-null   float32\n",
      " 5   FSC-A   1898 non-null   float32\n",
      " 6   SSC-A   1898 non-null   float32\n",
      " 7   B530-A  1898 non-null   float32\n",
      " 8   B572-A  1898 non-null   float32\n",
      " 9   B675-A  1898 non-null   float32\n",
      " 10  Width   1898 non-null   float32\n",
      " 11  Time    1898 non-null   float32\n",
      "dtypes: float32(12)\n",
      "memory usage: 89.1 KB\n"
     ]
    }
   ],
   "source": [
    "# Summary of index, datatypes and non-null values of each column \n",
    "data_df.info()"
   ]
  },
  {
   "cell_type": "code",
   "execution_count": 8,
   "metadata": {},
   "outputs": [
    {
     "name": "stdout",
     "output_type": "stream",
     "text": [
      "FSC-H     1727\n",
      "SSC-H     1869\n",
      "B530-H    1735\n",
      "B572-H    1628\n",
      "B675-H    1698\n",
      "FSC-A     1399\n",
      "SSC-A     1790\n",
      "B530-A    1786\n",
      "B572-A    1671\n",
      "B675-A    1691\n",
      "Width      227\n",
      "Time      1898\n",
      "dtype: int64\n"
     ]
    }
   ],
   "source": [
    "# Number of unique values in each column\n",
    "print(data_df.nunique())"
   ]
  },
  {
   "cell_type": "markdown",
   "metadata": {},
   "source": [
    "### negative values"
   ]
  },
  {
   "cell_type": "code",
   "execution_count": 9,
   "metadata": {},
   "outputs": [
    {
     "name": "stdout",
     "output_type": "stream",
     "text": [
      "(0, 11)\n",
      "(0, 11)\n",
      "(0, 11)\n",
      "(0, 11)\n",
      "(0, 11)\n",
      "(0, 11)\n",
      "(0, 11)\n",
      "(0, 11)\n",
      "(0, 11)\n",
      "(0, 11)\n",
      "(0, 11)\n",
      "(0, 11)\n"
     ]
    }
   ],
   "source": [
    "columns=['FSC-H','SSC-H','B530-H','B572-H','B675-H','FSC-A','SSC-A','B530-A','B572-A','B675-A','Width']\n",
    "\n",
    "files = [\n",
    "         '../labeled_dataset/GL53_UP_1A.csv',\n",
    "         '../labeled_dataset/GL53_UP_2A.csv',\n",
    "         '../labeled_dataset/GL53_UP_3A.csv',\n",
    "         '../GL55_DN_3A.csv',\n",
    "         '../labeled_dataset/GL57_DN_3A.csv',\n",
    "         '../labeled_dataset/GL57_DN_2A.csv',\n",
    "         '../labeled_dataset/GL58_UP_1A.csv',\n",
    "         '../labeled_dataset/GL58_UP_2A.csv',\n",
    "         '../labeled_dataset/GL58_UP_3A.csv',\n",
    "         '../labeled_dataset/GL59_DN_1A.csv',\n",
    "         '../labeled_dataset/GL59_DN_2A.csv',\n",
    "         '../labeled_dataset/GL59_DN_3A.csv']\n",
    "\n",
    "for file in files:\n",
    "    #print(file)\n",
    "    df_labeled = pd.read_csv(file)\n",
    "\n",
    "    #creation of X and y\n",
    "    df_labeled,y = split_input_output(df_labeled,target_feature='label')\n",
    "    df_labeled = df_labeled[columns]\n",
    "\n",
    "    #Index of all values strictly positive (because we will apply log() to all our data for standardization)\n",
    "    na_indexes = (df_labeled <= 0).all(1)\n",
    "    X_neg = df_labeled[na_indexes] \n",
    "    print(X_neg.shape)\n",
    "\n",
    "#Standardize our data\n",
    "#X = X[na_indexes]\n",
    "#y = y[na_indexes]\n",
    "#X = np.log(X)\n"
   ]
  },
  {
   "cell_type": "markdown",
   "metadata": {},
   "source": [
    "## Feature selection\n",
    "\n"
   ]
  },
  {
   "cell_type": "markdown",
   "metadata": {},
   "source": [
    "## Feature importance\n"
   ]
  },
  {
   "cell_type": "markdown",
   "metadata": {},
   "source": [
    "https://scikit-learn.org/stable/auto_examples/ensemble/plot_forest_importances.html"
   ]
  },
  {
   "cell_type": "code",
   "execution_count": 27,
   "metadata": {
    "tags": []
   },
   "outputs": [],
   "source": [
    "#Files\n",
    "file = '../labeled_dataset/GL53_UP_2A.csv'\n",
    "columns=['FSC-H','SSC-H','B530-H','B572-H','B675-H','FSC-A','SSC-A','B530-A','B572-A','B675-A','Width']\n",
    "X,y = preprocess(file,columns)\n",
    "#X_train, X_test, y_train, y_test = train_test_split(X,y)\n",
    "X_train, X_test, y_train, y_test = proportional_train_test_split(X,y)"
   ]
  },
  {
   "cell_type": "code",
   "execution_count": 28,
   "metadata": {},
   "outputs": [
    {
     "data": {
      "text/plain": [
       "RandomForestClassifier(random_state=0)"
      ]
     },
     "execution_count": 28,
     "metadata": {},
     "output_type": "execute_result"
    }
   ],
   "source": [
    "feature_names = [f'{X.columns[i]}' for i in range(X.shape[1])]\n",
    "forest = RandomForestClassifier(random_state=0)\n",
    "forest.fit(X_train, y_train)"
   ]
  },
  {
   "cell_type": "code",
   "execution_count": 29,
   "metadata": {},
   "outputs": [],
   "source": [
    "importances = forest.feature_importances_\n",
    "std = np.std([\n",
    "    tree.feature_importances_ for tree in forest.estimators_], axis=0)"
   ]
  },
  {
   "cell_type": "code",
   "execution_count": 30,
   "metadata": {},
   "outputs": [
    {
     "data": {
      "image/png": "[encoded data removed]",
      "text/plain": [
       "<Figure size 432x288 with 1 Axes>"
      ]
     },
     "metadata": {},
     "output_type": "display_data"
    }
   ],
   "source": [
    "forest_importances = pd.Series(importances, index=feature_names)\n",
    "\n",
    "fig, ax = plt.subplots()\n",
    "forest_importances.plot.bar(yerr=std, ax=ax)\n",
    "ax.set_title(\"Feature importances using MDI\")\n",
    "ax.set_ylabel(\"Mean decrease in impurity\")\n",
    "fig.tight_layout()"
   ]
  },
  {
   "cell_type": "markdown",
   "metadata": {},
   "source": [
    "We train a Random Forest Classifier to then obtain the feature importances of our features provided by the attribute feature_importances_. They are computed as the mean and standard deviation of accumulation of impurity decrease within each tree. \\cite{featureimportancerandomforest}"
   ]
  },
  {
   "cell_type": "code",
   "execution_count": 31,
   "metadata": {},
   "outputs": [
    {
     "name": "stdout",
     "output_type": "stream",
     "text": [
      "Elapsed time to compute the importances: 4.762 seconds\n"
     ]
    }
   ],
   "source": [
    "from sklearn.inspection import permutation_importance\n",
    "\n",
    "start_time = time.time()\n",
    "result = permutation_importance(\n",
    "    forest, X_test, y_test, n_repeats=10, random_state=42, n_jobs=2)\n",
    "elapsed_time = time.time() - start_time\n",
    "print(f\"Elapsed time to compute the importances: \"\n",
    "      f\"{elapsed_time:.3f} seconds\")\n",
    "\n",
    "forest_importances = pd.Series(result.importances_mean, index=feature_names)"
   ]
  },
  {
   "cell_type": "code",
   "execution_count": 32,
   "metadata": {},
   "outputs": [
    {
     "data": {
      "image/png": "[encoded data removed]",
      "text/plain": [
       "<Figure size 432x288 with 1 Axes>"
      ]
     },
     "metadata": {},
     "output_type": "display_data"
    }
   ],
   "source": [
    "fig, ax = plt.subplots()\n",
    "forest_importances.plot.bar(yerr=result.importances_std, ax=ax)\n",
    "ax.set_title(\"Feature importances using permutation on full model\")\n",
    "ax.set_ylabel(\"Mean accuracy decrease\")\n",
    "fig.tight_layout()\n",
    "plt.show()"
   ]
  },
  {
   "cell_type": "markdown",
   "metadata": {},
   "source": [
    "## Feature importance\n",
    "Extra Tree Classifier for extracting the top 10 features for the dataset."
   ]
  },
  {
   "cell_type": "code",
   "execution_count": 34,
   "metadata": {},
   "outputs": [
    {
     "name": "stdout",
     "output_type": "stream",
     "text": [
      "[0.03256766 0.02051611 0.14025702 0.10740204 0.18315925 0.02749997\n",
      " 0.01647601 0.13534318 0.08275271 0.13939184 0.11463422]\n"
     ]
    },
    {
     "data": {
      "image/png": "[encoded data removed]",
      "text/plain": [
       "<Figure size 432x288 with 1 Axes>"
      ]
     },
     "metadata": {},
     "output_type": "display_data"
    }
   ],
   "source": [
    "model = ExtraTreesClassifier()\n",
    "model.fit(X,y)\n",
    "print(model.feature_importances_) #use inbuilt class feature_importances of tree based classifiers\n",
    "#plot graph of feature importances for better visualization\n",
    "feat_importances = pd.Series(model.feature_importances_, index=X.columns)\n",
    "feat_importances.nlargest(10).plot(kind='barh')\n",
    "plt.show()"
   ]
  },
  {
   "cell_type": "markdown",
   "metadata": {},
   "source": [
    "## Univariate Selection \n",
    "Compute the ANOVA F-value for the provided sample."
   ]
  },
  {
   "cell_type": "code",
   "execution_count": 47,
   "metadata": {
    "tags": []
   },
   "outputs": [],
   "source": [
    "#Files\n",
    "file = '../labeled_dataset/GL53_UP_2A.csv'\n",
    "columns=['FSC-H','SSC-H','B530-H','B572-H','B675-H','FSC-A','SSC-A','B530-A','B572-A','B675-A','Width']\n",
    "X,y = preprocess(file,columns)\n",
    "#X_train, X_test, y_train, y_test = train_test_split(X,y)\n",
    "X_train, X_test, y_train, y_test = proportional_train_test_split(X,y)"
   ]
  },
  {
   "cell_type": "code",
   "execution_count": 48,
   "metadata": {
    "tags": []
   },
   "outputs": [
    {
     "name": "stdout",
     "output_type": "stream",
     "text": [
      "     Specs       Score\n",
      "2   B530-H  104.417705\n",
      "0    FSC-H   92.574883\n",
      "1    SSC-H   89.237357\n",
      "7   B530-A   88.833362\n",
      "5    FSC-A   84.729800\n",
      "6    SSC-A   79.429339\n",
      "3   B572-H   73.084614\n",
      "8   B572-A   68.447097\n",
      "10   Width   21.358544\n",
      "4   B675-H    5.277874\n"
     ]
    }
   ],
   "source": [
    "from sklearn.feature_selection import SelectKBest\n",
    "from sklearn.feature_selection import f_classif,chi2\n",
    "#apply SelectKBest class to extract top 10 best features\n",
    "bestfeatures = SelectKBest(score_func=f_classif, k=10)\n",
    "fit = bestfeatures.fit(X,y)\n",
    "dfscores = pd.DataFrame(fit.scores_)\n",
    "dfcolumns = pd.DataFrame(X.columns)\n",
    "#concat two dataframes for better visualization \n",
    "featureScores = pd.concat([dfcolumns,dfscores],axis=1)\n",
    "featureScores.columns = ['Specs','Score']  #naming the dataframe columns\n",
    "print(featureScores.nlargest(10,'Score'))  #print 10 best features"
   ]
  },
  {
   "cell_type": "code",
   "execution_count": null,
   "metadata": {},
   "outputs": [],
   "source": [
    "#Log transformation\n",
    "data_df_plot = data_df.copy()\n",
    "data_df_plot['FSC-H'] = np.log(data_df['FSC-H'] + 1)\n",
    "data_df_plot['SSC-H'] = np.log(data_df['SSC-H'] + 1)\n",
    "data_df_plot['B530-H'] = np.log(data_df['B530-H'] + 1)\n",
    "data_df_plot['B572-H'] = np.log(data_df['B572-H'] + 1)\n",
    "data_df_plot['B675-H'] = np.log(data_df['B675-H'] + 1)\n",
    "data_df_plot['FSC-A'] = np.log(data_df['FSC-A'] + 1)\n",
    "data_df_plot['SSC-A'] = np.log(data_df['SSC-A'] + 1)\n",
    "data_df_plot['B530-A'] = np.log(data_df['B530-A'] + 1)\n",
    "data_df_plot['B572-A'] = np.log(data_df['B572-A'] + 1)\n",
    "data_df_plot['B675-A'] = np.log(data_df['B675-A'] + 1)\n",
    "data_df_plot['Width'] = np.log(data_df['Width'] + 1)\n",
    "data_df_plot['Time'] = np.log(data_df['Time'] + 1)\n"
   ]
  },
  {
   "cell_type": "code",
   "execution_count": null,
   "metadata": {},
   "outputs": [],
   "source": [
    "# Create a new figure with a width of 12 and a height of 6\n",
    "plt.figure(figsize = (12,6))\n",
    "\n",
    "# Create four subplots (a 2x2 matrix of plots) with distribution plots\n",
    "plt.subplot(221)\n",
    "g1 = sns.histplot(data_df_plot['FSC-H'])\n",
    "g1.set_title(\"FSC-H DISTRIBUITION\", fontsize=16)\n",
    "\n",
    "plt.subplot(224)\n",
    "g2 = sns.histplot(data_df_plot['SSC-H'],color='green')\n",
    "g2.set_title('SSC-H DISTRIBUITION', fontsize=16)\n",
    "\n",
    "plt.subplot(223)\n",
    "g3 = sns.histplot(data_df_plot['B530-H'], color='r')\n",
    "g3.set_title(\"B530-H DISTRIBUITION\", fontsize=16)\n",
    "\n",
    "plt.subplot(222)\n",
    "g4 = sns.histplot(data_df_plot['B572-H'], color='k')\n",
    "g4.set_title(\"B572-H  DISTRIBUITION\", fontsize=16)\n",
    "\n",
    "\n",
    "plt.subplots_adjust(wspace = 0.2, hspace = 0.4,top = 0.9)\n",
    "\n",
    "plt.show()\n",
    "\n",
    "plt.figure(figsize = (12,6))\n",
    "\n",
    "# Create four subplots (a 2x2 matrix of plots) with distribution plots\n",
    "plt.subplot(221)\n",
    "g1 = sns.histplot(data_df_plot['B675-H'])\n",
    "g1.set_title(\"B675-H DISTRIBUITION\", fontsize=16)\n",
    "\n",
    "plt.subplot(224)\n",
    "g2 = sns.histplot(data_df_plot['FSC-A'],color='green')\n",
    "g2.set_title('FSC-A DISTRIBUITION', fontsize=16)\n",
    "\n",
    "plt.subplot(223)\n",
    "g3 = sns.histplot(data_df_plot['SSC-A'], color='r')\n",
    "g3.set_title(\"SSC-A DISTRIBUITION\", fontsize=16)\n",
    "\n",
    "plt.subplot(222)\n",
    "g4 = sns.histplot(data_df_plot['B530-A'], color='k')\n",
    "g4.set_title(\"B530-A  DISTRIBUITION\", fontsize=16)\n",
    "\n",
    "\n",
    "plt.subplots_adjust(wspace = 0.2, hspace = 0.4,top = 0.9)\n",
    "\n",
    "plt.show()\n",
    "plt.figure(figsize = (12,6))\n",
    "\n",
    "# Create four subplots (a 2x2 matrix of plots) with distribution plots\n",
    "plt.subplot(221)\n",
    "g1 = sns.histplot(data_df_plot['B572-A'])\n",
    "g1.set_title(\"B572-A DISTRIBUITION\", fontsize=16)\n",
    "\n",
    "plt.subplot(224)\n",
    "g2 = sns.histplot(data_df_plot['B675-A'],color='green')\n",
    "g2.set_title('B675-A DISTRIBUITION', fontsize=16)\n",
    "\n",
    "plt.subplot(223)\n",
    "g3 = sns.histplot(data_df_plot['Width'], color='r')\n",
    "g3.set_title(\"Width DISTRIBUITION\", fontsize=16)\n",
    "\n",
    "plt.subplot(222)\n",
    "g4 = sns.histplot(data_df_plot['Time'], color='k')\n",
    "g4.set_title(\"Time  DISTRIBUITION\", fontsize=16)\n",
    "\n",
    "plt.subplots_adjust(wspace = 0.2, hspace = 0.4,top = 0.9)\n",
    "\n",
    "plt.show()"
   ]
  },
  {
   "cell_type": "markdown",
   "metadata": {},
   "source": [
    "Analyse"
   ]
  },
  {
   "cell_type": "code",
   "execution_count": null,
   "metadata": {},
   "outputs": [],
   "source": [
    "corr_df = data_df[data_df.columns]\n",
    "cor = corr_df.corr(method='pearson')\n",
    "print(cor)"
   ]
  },
  {
   "cell_type": "code",
   "execution_count": null,
   "metadata": {},
   "outputs": [],
   "source": [
    "mask = np.triu(np.ones_like(cor, dtype=bool))\n",
    "\n",
    "fig, ax =plt.subplots(figsize=(8, 6))\n",
    "plt.title(\"Correlation Plot\")\n",
    "hmap = sns.heatmap(cor, mask=mask, cmap=sns.diverging_palette(220, 10, as_cmap=True),\n",
    "            square=True,annot=True, ax=ax)\n",
    "hmap.figure.savefig(\"Correlation_Heatmap_Lower_Triangle_with_Seaborn.png\",\n",
    "                    format='png',\n",
    "                    dpi=150)\n",
    "plt.show()"
   ]
  },
  {
   "cell_type": "code",
   "execution_count": null,
   "metadata": {},
   "outputs": [],
   "source": [
    "corr_df = data_df[data_df.columns]\n",
    "cor = corr_df.corr(method='pearson')\n",
    "print(cor)\n",
    "\n",
    "df_visualize = data_df.copy()\n",
    "fig, ax = plt.subplots(figsize=(15,12)) # create sublots\n",
    "plt.title(\"Correlation Heat Map\") # set the fig title\n",
    "mask = np.triu(df_visualize.corr()) # create upper triangle of an array\n",
    "\n",
    "sns.heatmap(df_visualize.corr(), annot = True, ax=ax, mask=mask, cmap= 'coolwarm', linewidths=.5) # visualize"
   ]
  },
  {
   "cell_type": "markdown",
   "metadata": {},
   "source": [
    "This plot allows us to see whether some features are strongly correlated among them. For instance, B572-A and B675-A are strongly correlated (0.98), as well as B675-H and B675-A (0.99). These pairs therefore seem to contain redudant information and it would not make sense to select them together"
   ]
  },
  {
   "cell_type": "markdown",
   "metadata": {},
   "source": [
    "## Features we selected last semester"
   ]
  },
  {
   "cell_type": "code",
   "execution_count": null,
   "metadata": {},
   "outputs": [],
   "source": [
    "#file = '../labeled_dataset/GL55_DN_3A.csv'\n",
    "columns=['B530-H', 'B530-A', 'B572-H','B572-A', 'B675-H','B675-A','Width']\n",
    "#X,y = preprocess(file,columns)"
   ]
  },
  {
   "cell_type": "code",
   "execution_count": null,
   "metadata": {},
   "outputs": [],
   "source": [
    "corr_df = data_df[columns]\n",
    "cor = corr_df.corr(method='pearson')\n",
    "print(cor)"
   ]
  },
  {
   "cell_type": "code",
   "execution_count": null,
   "metadata": {},
   "outputs": [],
   "source": [
    "mask = np.triu(np.ones_like(cor, dtype=bool))\n",
    "\n",
    "fig, ax =plt.subplots(figsize=(8, 6))\n",
    "plt.title(\"Correlation Plot\")\n",
    "hmap = sns.heatmap(cor, mask=mask, cmap=sns.diverging_palette(220, 10, as_cmap=True),\n",
    "            square=True,annot=True, ax=ax,vmin=0,vmax=1)\n",
    "hmap.figure.savefig(\"Correlation_Heatmap_Lower_Triangle_with_Seaborn.png\",\n",
    "                    format='png',\n",
    "                    dpi=150)\n",
    "plt.show()"
   ]
  },
  {
   "cell_type": "markdown",
   "metadata": {},
   "source": [
    "## Features freshly selected"
   ]
  },
  {
   "cell_type": "code",
   "execution_count": null,
   "metadata": {},
   "outputs": [],
   "source": [
    "columns=['B530-H', 'B572-H','B675-H','Width']\n"
   ]
  },
  {
   "cell_type": "code",
   "execution_count": null,
   "metadata": {},
   "outputs": [],
   "source": [
    "corr_df = data_df[columns]\n",
    "cor = corr_df.corr(method='pearson')\n",
    "print(cor)"
   ]
  },
  {
   "cell_type": "code",
   "execution_count": null,
   "metadata": {},
   "outputs": [],
   "source": [
    "\n",
    "mask = np.triu(np.ones_like(cor, dtype=bool))\n",
    "\n",
    "fig, ax =plt.subplots(figsize=(8, 6))\n",
    "plt.title(\"Correlation Plot\")\n",
    "hmap = sns.heatmap(cor, mask=mask, cmap=sns.diverging_palette(220, 10, as_cmap=True),\n",
    "            square=True,annot=True, ax=ax,vmin=0,vmax=1)\n",
    "hmap.figure.savefig(\"Correlation_Heatmap_Lower_Triangle_with_Seaborn.png\",\n",
    "                    format='png',\n",
    "                    dpi=150)\n",
    "plt.show()"
   ]
  },
  {
   "cell_type": "code",
   "execution_count": null,
   "metadata": {},
   "outputs": [],
   "source": [
    "sns.scatterplot(data=data_df, x=\"B530-H\", y=\"B572-H\")"
   ]
  },
  {
   "cell_type": "code",
   "execution_count": null,
   "metadata": {},
   "outputs": [],
   "source": [
    "data_df.shape"
   ]
  },
  {
   "cell_type": "markdown",
   "metadata": {},
   "source": [
    "We can see we have outliers"
   ]
  },
  {
   "cell_type": "code",
   "execution_count": null,
   "metadata": {},
   "outputs": [],
   "source": [
    "data_df_no_outliers = remove_outliers(data_df)"
   ]
  },
  {
   "cell_type": "code",
   "execution_count": null,
   "metadata": {},
   "outputs": [],
   "source": [
    "data_df_no_outliers.shape"
   ]
  },
  {
   "cell_type": "code",
   "execution_count": null,
   "metadata": {},
   "outputs": [],
   "source": [
    "sns.scatterplot(data=data_df_no_outliers, x=\"B530-H\", y=\"B572-H\")"
   ]
  },
  {
   "cell_type": "code",
   "execution_count": null,
   "metadata": {},
   "outputs": [],
   "source": [
    "data_df_no_outliers.describe()"
   ]
  }
 ],
 "metadata": {
  "kernelspec": {
   "display_name": "Python 3",
   "language": "python",
   "name": "python3"
  },
  "language_info": {
   "codemirror_mode": {
    "name": "ipython",
    "version": 3
   },
   "file_extension": ".py",
   "mimetype": "text/x-python",
   "name": "python",
   "nbconvert_exporter": "python",
   "pygments_lexer": "ipython3",
   "version": "3.9.5"
  }
 },
 "nbformat": 4,
 "nbformat_minor": 4
}
